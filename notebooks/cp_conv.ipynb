{
 "cells": [
  {
   "cell_type": "code",
   "execution_count": 1,
   "metadata": {},
   "outputs": [
    {
     "name": "stdout",
     "output_type": "stream",
     "text": [
      "/home/nikita/edu/ai-masters/nla1/project\n"
     ]
    }
   ],
   "source": [
    "%cd .."
   ]
  },
  {
   "cell_type": "code",
   "execution_count": 7,
   "metadata": {},
   "outputs": [],
   "source": [
    "from copy import deepcopy\n",
    "\n",
    "import torch\n",
    "from torch import nn\n",
    "from torch.nn import functional as F\n",
    "\n",
    "from conv_cp import CPConv2d"
   ]
  },
  {
   "cell_type": "code",
   "execution_count": 10,
   "metadata": {},
   "outputs": [],
   "source": [
    "model = nn.Sequential(\n",
    "    nn.Conv2d(3, 16, 3),\n",
    "    nn.ReLU(),\n",
    "    nn.Conv2d(16, 32, 3),\n",
    "    nn.ReLU(),\n",
    "    nn.Conv2d(32, 64, 3),\n",
    "    nn.ReLU(),\n",
    "    nn.Conv2d(64, 64, 3),\n",
    "    nn.Flatten()\n",
    ")\n",
    "\n",
    "cp_model = deepcopy(model)\n",
    "for i, layer in enumerate(cp_model):\n",
    "    if isinstance(layer, nn.Conv2d):\n",
    "        cp_model[i] = CPConv2d(layer, 5)\n",
    "        \n"
   ]
  },
  {
   "cell_type": "code",
   "execution_count": 11,
   "metadata": {},
   "outputs": [
    {
     "name": "stdout",
     "output_type": "stream",
     "text": [
      "tensor(0.0012, grad_fn=<MseLossBackward0>)\n"
     ]
    }
   ],
   "source": [
    "x = torch.rand(32, 3, 32, 32)\n",
    "y = model(x)\n",
    "cp_y = cp_model(x)\n",
    "print(F.mse_loss(y, cp_y))"
   ]
  },
  {
   "cell_type": "code",
   "execution_count": 12,
   "metadata": {},
   "outputs": [
    {
     "name": "stdout",
     "output_type": "stream",
     "text": [
      "num of params orig model: 60512\n",
      "num of params in cp model: 1751\n"
     ]
    }
   ],
   "source": [
    "def get_parameter_count(model):\n",
    "    return sum(p.numel() for p in model.parameters())\n",
    "\n",
    "print(\"num of params orig model:\", get_parameter_count(model))\n",
    "print(\"num of params in cp model:\", get_parameter_count(cp_model))"
   ]
  }
 ],
 "metadata": {
  "kernelspec": {
   "display_name": "Python 3",
   "language": "python",
   "name": "python3"
  },
  "language_info": {
   "codemirror_mode": {
    "name": "ipython",
    "version": 3
   },
   "file_extension": ".py",
   "mimetype": "text/x-python",
   "name": "python",
   "nbconvert_exporter": "python",
   "pygments_lexer": "ipython3",
   "version": "3.11.10"
  }
 },
 "nbformat": 4,
 "nbformat_minor": 2
}
