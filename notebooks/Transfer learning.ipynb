{
 "cells": [
  {
   "cell_type": "code",
   "execution_count": 1,
   "id": "aca2536b-668a-45fc-b596-31662f391a68",
   "metadata": {},
   "outputs": [
    {
     "name": "stdout",
     "output_type": "stream",
     "text": [
      "/home/nikita/temp/conv-cp-decomposition\n"
     ]
    }
   ],
   "source": [
    "%cd .."
   ]
  },
  {
   "cell_type": "code",
   "execution_count": 2,
   "id": "cab06613-5ac0-4f90-b7d8-abf825aee59a",
   "metadata": {},
   "outputs": [],
   "source": [
    "from copy import deepcopy\n",
    "\n",
    "import torch\n",
    "from torch import nn\n",
    "from torch.nn import functional as F\n",
    "from conv_cp import CPConv2d"
   ]
  },
  {
   "cell_type": "code",
   "execution_count": 3,
   "id": "5821c260",
   "metadata": {},
   "outputs": [],
   "source": [
    "import os\n",
    "os.environ['CUDA_VISIBLE_DEVICES'] = \"0,1,2,3\""
   ]
  },
  {
   "cell_type": "code",
   "execution_count": 4,
   "id": "46376b6e-8512-4c6c-a82e-5e972341769b",
   "metadata": {},
   "outputs": [
    {
     "name": "stderr",
     "output_type": "stream",
     "text": [
      "/home/nikita/miniconda3/envs/conv_cp/lib/python3.11/site-packages/torchvision/models/_utils.py:208: UserWarning: The parameter 'pretrained' is deprecated since 0.13 and may be removed in the future, please use 'weights' instead.\n",
      "  warnings.warn(\n",
      "/home/nikita/miniconda3/envs/conv_cp/lib/python3.11/site-packages/torchvision/models/_utils.py:223: UserWarning: Arguments other than a weight enum or `None` for 'weights' are deprecated since 0.13 and may be removed in the future. The current behavior is equivalent to passing `weights=ResNet18_Weights.IMAGENET1K_V1`. You can also use `weights=ResNet18_Weights.DEFAULT` to get the most up-to-date weights.\n",
      "  warnings.warn(msg)\n"
     ]
    }
   ],
   "source": [
    "from torchmetrics.functional import accuracy\n",
    "from torchvision.models import resnet18\n",
    "\n",
    "model = resnet18(pretrained=True)"
   ]
  },
  {
   "cell_type": "code",
   "execution_count": 5,
   "id": "af338447-5ad8-40e7-8954-ecbe032e1e79",
   "metadata": {},
   "outputs": [],
   "source": [
    "def get_parameter_count(model):\n",
    "    return sum(p.numel() for p in model.parameters())\n",
    "    \n",
    "def max_rank(layer, step=1):\n",
    "    sum_shape, dot_shape = 0, 1\n",
    "    shape_ = layer.weight.shape\n",
    "    for i in range(len(shape_)):\n",
    "        sum_shape += shape_[i]\n",
    "        dot_shape *= shape_[i]\n",
    "        \n",
    "    return dot_shape // sum_shape\n",
    "\n",
    "def get_cp_model(ratio=1):\n",
    "    cp_model = deepcopy(model)\n",
    "    for name_1, layer_1 in cp_model.named_children():\n",
    "        if isinstance(layer_1, nn.Conv2d):\n",
    "            setattr(cp_model, name_1, CPConv2d(layer_1, int(max_rank(layer_1) * ratio)))\n",
    "            \n",
    "        if isinstance(layer_1, nn.Sequential):\n",
    "            atr_1 = getattr(cp_model, name_1)\n",
    "            \n",
    "            for name_2, layer_2 in layer_1.named_children():\n",
    "                atr_2 = atr_1[int(name_2)]\n",
    "                \n",
    "                for name_3, layer_3 in layer_2.named_children():\n",
    "                    if isinstance(layer_3, nn.Conv2d):\n",
    "                        setattr(atr_2, name_3, CPConv2d(layer_3, int(max_rank(layer_3) * ratio)))\n",
    "                            \n",
    "                atr_1[int(name_2)] = atr_2\n",
    "            setattr(cp_model, name_1, atr_1)\n",
    "    return cp_model\n",
    "    "
   ]
  },
  {
   "cell_type": "code",
   "execution_count": 6,
   "id": "12a52243-90f8-4a9c-8751-3707ced40167",
   "metadata": {},
   "outputs": [],
   "source": [
    "import glob\n",
    "import warnings\n",
    "import sys\n",
    "from tqdm import tqdm\n",
    "\n",
    "import matplotlib.pyplot as plt\n",
    "import numpy as np\n",
    "import torch\n",
    "from torch import nn\n",
    "from torchvision.datasets import ImageFolder\n",
    "from torchvision.transforms import Compose, Normalize, Resize, ToTensor\n",
    "\n",
    "%matplotlib inline\n",
    "warnings.filterwarnings(\"ignore\")\n",
    "\n",
    "device = \"cuda:1\"\n",
    "\n",
    "dataset = ImageFolder(\n",
    "    \"PetImages\",\n",
    "    transform=Compose(\n",
    "        [\n",
    "            Resize((224, 224)),\n",
    "            ToTensor(),\n",
    "            Normalize((0.5, 0.5, 0.5), (1, 1, 1)),\n",
    "        ]\n",
    "    ),\n",
    ")\n",
    "train_set, val_set = torch.utils.data.random_split(\n",
    "    dataset, [int(0.8 * len(dataset)), len(dataset) - int(0.8 * len(dataset))]\n",
    ")\n",
    "\n",
    "train_dataloader = torch.utils.data.DataLoader(train_set, batch_size=256, shuffle=True)\n",
    "val_dataloader = torch.utils.data.DataLoader(val_set, batch_size=256, shuffle=False)"
   ]
  },
  {
   "cell_type": "code",
   "execution_count": 7,
   "id": "091e301a-eca0-48eb-9391-534a4643ea5a",
   "metadata": {},
   "outputs": [],
   "source": [
    "import pytorch_lightning as pl\n",
    "from torchmetrics.functional import accuracy\n",
    "\n",
    "def train_epoch(\n",
    "    model,\n",
    "    data_loader,\n",
    "    optimizer,\n",
    "    return_losses=False,\n",
    "    device=\"cuda:1\",\n",
    "):\n",
    "    model = model.train()\n",
    "    total_loss = 0\n",
    "    num_batches = 0\n",
    "    all_losses = []\n",
    "    with tqdm(total=len(data_loader), file=sys.stdout) as prbar:\n",
    "        for batch in data_loader:\n",
    "            # move Batch to GPU\n",
    "            batch = [x.to(device=device) for x in batch]\n",
    "            loss = model(*batch)\n",
    "            # update weights\n",
    "            loss.backward()\n",
    "            optimizer.step()\n",
    "            optimizer.zero_grad()\n",
    "            # update description for tqdm\n",
    "            accuracy = model.get_accuracy()\n",
    "            prbar.set_description(\n",
    "                f\"Loss: {round(loss.item(), 4)} \"\n",
    "                f\"Accuracy: {round(accuracy.item() * 100, 4)}\"\n",
    "            )\n",
    "            prbar.update(1)\n",
    "            total_loss += loss.item()\n",
    "            num_batches += 1\n",
    "            all_losses.append(loss.detach().item())\n",
    "    acc = model.get_accuracy(reset=True)\n",
    "    metrics = {\"loss\": total_loss / num_batches, \"accuracy\": acc}\n",
    "    if return_losses:\n",
    "        return metrics, all_losses\n",
    "    else:\n",
    "        return metrics\n",
    "\n",
    "\n",
    "def validate(model, data_loader, device=\"cuda:1\"):\n",
    "    model = model.eval()\n",
    "    total_loss = 0\n",
    "    num_batches = 0\n",
    "    with tqdm(total=len(data_loader), file=sys.stdout) as prbar:\n",
    "        for batch in data_loader:\n",
    "            batch = [x.to(device=device) for x in batch]\n",
    "            loss = model(*batch)\n",
    "            accuracy = model.get_accuracy()\n",
    "            prbar.set_description(\n",
    "                f\"Loss: {round(loss.item(), 4)} \"\n",
    "                f\"Accuracy: {round(accuracy.item() * 100, 4)}\"\n",
    "            )\n",
    "            prbar.update(1)\n",
    "            total_loss += loss.item()\n",
    "            num_batches += 1\n",
    "    acc = model.get_accuracy(reset=True)\n",
    "    metrics = {\"loss\": total_loss / num_batches, \"accuracy\": acc}\n",
    "    return metrics\n",
    "\n",
    "class CatsVSDogsResnet(pl.LightningModule):\n",
    "    def __init__(self, cp: bool = False, ratio = 1) -> None:\n",
    "        super().__init__()\n",
    "        self.cp = cp\n",
    "\n",
    "        if cp:\n",
    "            self.model = get_cp_model(ratio)\n",
    "        else:\n",
    "            self.model = resnet18(pretrained=True)\n",
    "            \n",
    "        self.model.fc = nn.Identity()\n",
    "        self.classifier = nn.Linear(512, 2)\n",
    "        self.optimizer = torch.optim.Adam(self.classifier.parameters())\n",
    "\n",
    "        self.loss = nn.CrossEntropyLoss()\n",
    "\n",
    "    def forward(self, x) -> torch.Tensor:\n",
    "        with torch.no_grad():\n",
    "            features = self.model(x)\n",
    "        preds = self.classifier(features)\n",
    "        return preds\n",
    "\n",
    "    def configure_optimizers(self):\n",
    "        return self.optimizer\n",
    "\n",
    "    def training_step(self, train_batch, batch_idx) -> torch.Tensor:\n",
    "        images, target = train_batch\n",
    "        preds = self.forward(images)\n",
    "        loss = self.loss(preds, target)\n",
    "        self.log(\"train_loss\", loss, prog_bar=True)\n",
    "        return loss\n",
    "\n",
    "    def validation_step(self, val_batch, batch_idx) -> None:\n",
    "        images, target = val_batch\n",
    "        preds = self.forward(images)\n",
    "        loss = self.loss(preds, target)\n",
    "        acc = accuracy(torch.argmax(preds, dim=-1).long(), target.long(), task = 'binary')\n",
    "        self.log(\"val_loss\", loss, prog_bar=True)\n",
    "        self.log(\"accuracy\", acc, prog_bar=True)"
   ]
  },
  {
   "cell_type": "code",
   "execution_count": 8,
   "id": "880663f0-d3f3-4577-84dd-b5f823fa5ee6",
   "metadata": {},
   "outputs": [
    {
     "name": "stderr",
     "output_type": "stream",
     "text": [
      "Trainer will use only 1 of 4 GPUs because it is running inside an interactive / notebook environment. You may try to set `Trainer(devices=4)` but please note that multi-GPU inside interactive / notebook environments is considered experimental and unstable. Your mileage may vary.\n",
      "GPU available: True (cuda), used: True\n",
      "TPU available: False, using: 0 TPU cores\n",
      "HPU available: False, using: 0 HPUs\n",
      "You are using a CUDA device ('NVIDIA A100 80GB PCIe') that has Tensor Cores. To properly utilize them, you should set `torch.set_float32_matmul_precision('medium' | 'high')` which will trade-off precision for performance. For more details, read https://pytorch.org/docs/stable/generated/torch.set_float32_matmul_precision.html#torch.set_float32_matmul_precision\n",
      "LOCAL_RANK: 0 - CUDA_VISIBLE_DEVICES: [0,1,2,3]\n",
      "\n",
      "  | Name       | Type             | Params | Mode \n",
      "--------------------------------------------------------\n",
      "0 | model      | ResNet           | 286 K  | train\n",
      "1 | classifier | Linear           | 1.0 K  | train\n",
      "2 | loss       | CrossEntropyLoss | 0      | train\n",
      "--------------------------------------------------------\n",
      "287 K     Trainable params\n",
      "0         Non-trainable params\n",
      "287 K     Total params\n",
      "1.151     Total estimated model params size (MB)\n",
      "155       Modules in train mode\n",
      "0         Modules in eval mode\n"
     ]
    },
    {
     "name": "stdout",
     "output_type": "stream",
     "text": [
      "Epoch 0: 100%|██████████| 79/79 [02:24<00:00,  0.55it/s, v_num=5, train_loss=0.614, val_loss=0.687, accuracy=0.555]"
     ]
    },
    {
     "name": "stderr",
     "output_type": "stream",
     "text": [
      "`Trainer.fit` stopped: `max_epochs=1` reached.\n"
     ]
    },
    {
     "name": "stdout",
     "output_type": "stream",
     "text": [
      "Epoch 0: 100%|██████████| 79/79 [02:24<00:00,  0.55it/s, v_num=5, train_loss=0.614, val_loss=0.687, accuracy=0.555]\n"
     ]
    },
    {
     "name": "stderr",
     "output_type": "stream",
     "text": [
      "Trainer will use only 1 of 4 GPUs because it is running inside an interactive / notebook environment. You may try to set `Trainer(devices=4)` but please note that multi-GPU inside interactive / notebook environments is considered experimental and unstable. Your mileage may vary.\n",
      "GPU available: True (cuda), used: True\n",
      "TPU available: False, using: 0 TPU cores\n",
      "HPU available: False, using: 0 HPUs\n",
      "LOCAL_RANK: 0 - CUDA_VISIBLE_DEVICES: [0,1,2,3]\n",
      "\n",
      "  | Name       | Type             | Params | Mode \n",
      "--------------------------------------------------------\n",
      "0 | model      | ResNet           | 507 K  | train\n",
      "1 | classifier | Linear           | 1.0 K  | train\n",
      "2 | loss       | CrossEntropyLoss | 0      | train\n",
      "--------------------------------------------------------\n",
      "508 K     Trainable params\n",
      "0         Non-trainable params\n",
      "508 K     Total params\n",
      "2.033     Total estimated model params size (MB)\n",
      "155       Modules in train mode\n",
      "0         Modules in eval mode\n"
     ]
    },
    {
     "name": "stdout",
     "output_type": "stream",
     "text": [
      "Epoch 0: 100%|██████████| 79/79 [01:25<00:00,  0.93it/s, v_num=3, train_loss=0.634, val_loss=0.656, accuracy=0.627]"
     ]
    },
    {
     "name": "stderr",
     "output_type": "stream",
     "text": [
      "`Trainer.fit` stopped: `max_epochs=1` reached.\n"
     ]
    },
    {
     "name": "stdout",
     "output_type": "stream",
     "text": [
      "Epoch 0: 100%|██████████| 79/79 [01:25<00:00,  0.93it/s, v_num=3, train_loss=0.634, val_loss=0.656, accuracy=0.627]\n"
     ]
    },
    {
     "name": "stderr",
     "output_type": "stream",
     "text": [
      "Trainer will use only 1 of 4 GPUs because it is running inside an interactive / notebook environment. You may try to set `Trainer(devices=4)` but please note that multi-GPU inside interactive / notebook environments is considered experimental and unstable. Your mileage may vary.\n",
      "GPU available: True (cuda), used: True\n",
      "TPU available: False, using: 0 TPU cores\n",
      "HPU available: False, using: 0 HPUs\n",
      "LOCAL_RANK: 0 - CUDA_VISIBLE_DEVICES: [0,1,2,3]\n",
      "\n",
      "  | Name       | Type             | Params | Mode \n",
      "--------------------------------------------------------\n",
      "0 | model      | ResNet           | 727 K  | train\n",
      "1 | classifier | Linear           | 1.0 K  | train\n",
      "2 | loss       | CrossEntropyLoss | 0      | train\n",
      "--------------------------------------------------------\n",
      "728 K     Trainable params\n",
      "0         Non-trainable params\n",
      "728 K     Total params\n",
      "2.913     Total estimated model params size (MB)\n",
      "155       Modules in train mode\n",
      "0         Modules in eval mode\n"
     ]
    },
    {
     "name": "stdout",
     "output_type": "stream",
     "text": [
      "Epoch 0: 100%|██████████| 79/79 [01:24<00:00,  0.93it/s, v_num=3, train_loss=0.595, val_loss=0.565, accuracy=0.710]"
     ]
    },
    {
     "name": "stderr",
     "output_type": "stream",
     "text": [
      "`Trainer.fit` stopped: `max_epochs=1` reached.\n"
     ]
    },
    {
     "name": "stdout",
     "output_type": "stream",
     "text": [
      "Epoch 0: 100%|██████████| 79/79 [01:24<00:00,  0.93it/s, v_num=3, train_loss=0.595, val_loss=0.565, accuracy=0.710]\n"
     ]
    },
    {
     "name": "stderr",
     "output_type": "stream",
     "text": [
      "Trainer will use only 1 of 4 GPUs because it is running inside an interactive / notebook environment. You may try to set `Trainer(devices=4)` but please note that multi-GPU inside interactive / notebook environments is considered experimental and unstable. Your mileage may vary.\n",
      "GPU available: True (cuda), used: True\n",
      "TPU available: False, using: 0 TPU cores\n",
      "HPU available: False, using: 0 HPUs\n",
      "LOCAL_RANK: 0 - CUDA_VISIBLE_DEVICES: [0,1,2,3]\n",
      "\n",
      "  | Name       | Type             | Params | Mode \n",
      "--------------------------------------------------------\n",
      "0 | model      | ResNet           | 1.3 M  | train\n",
      "1 | classifier | Linear           | 1.0 K  | train\n",
      "2 | loss       | CrossEntropyLoss | 0      | train\n",
      "--------------------------------------------------------\n",
      "1.3 M     Trainable params\n",
      "0         Non-trainable params\n",
      "1.3 M     Total params\n",
      "5.118     Total estimated model params size (MB)\n",
      "155       Modules in train mode\n",
      "0         Modules in eval mode\n"
     ]
    },
    {
     "name": "stdout",
     "output_type": "stream",
     "text": [
      "Epoch 0: 100%|██████████| 79/79 [01:22<00:00,  0.96it/s, v_num=2, train_loss=0.555, val_loss=0.421, accuracy=0.807]"
     ]
    },
    {
     "name": "stderr",
     "output_type": "stream",
     "text": [
      "`Trainer.fit` stopped: `max_epochs=1` reached.\n"
     ]
    },
    {
     "name": "stdout",
     "output_type": "stream",
     "text": [
      "Epoch 0: 100%|██████████| 79/79 [01:22<00:00,  0.96it/s, v_num=2, train_loss=0.555, val_loss=0.421, accuracy=0.807]\n"
     ]
    },
    {
     "name": "stderr",
     "output_type": "stream",
     "text": [
      "Trainer will use only 1 of 4 GPUs because it is running inside an interactive / notebook environment. You may try to set `Trainer(devices=4)` but please note that multi-GPU inside interactive / notebook environments is considered experimental and unstable. Your mileage may vary.\n",
      "GPU available: True (cuda), used: True\n",
      "TPU available: False, using: 0 TPU cores\n",
      "HPU available: False, using: 0 HPUs\n",
      "LOCAL_RANK: 0 - CUDA_VISIBLE_DEVICES: [0,1,2,3]\n",
      "\n",
      "  | Name       | Type             | Params | Mode \n",
      "--------------------------------------------------------\n",
      "0 | model      | ResNet           | 2.4 M  | train\n",
      "1 | classifier | Linear           | 1.0 K  | train\n",
      "2 | loss       | CrossEntropyLoss | 0      | train\n",
      "--------------------------------------------------------\n",
      "2.4 M     Trainable params\n",
      "0         Non-trainable params\n",
      "2.4 M     Total params\n",
      "9.515     Total estimated model params size (MB)\n",
      "155       Modules in train mode\n",
      "0         Modules in eval mode\n"
     ]
    },
    {
     "name": "stdout",
     "output_type": "stream",
     "text": [
      "Epoch 0: 100%|██████████| 79/79 [01:29<00:00,  0.89it/s, v_num=2, train_loss=0.153, val_loss=0.147, accuracy=0.947]"
     ]
    },
    {
     "name": "stderr",
     "output_type": "stream",
     "text": [
      "`Trainer.fit` stopped: `max_epochs=1` reached.\n"
     ]
    },
    {
     "name": "stdout",
     "output_type": "stream",
     "text": [
      "Epoch 0: 100%|██████████| 79/79 [01:29<00:00,  0.88it/s, v_num=2, train_loss=0.153, val_loss=0.147, accuracy=0.947]\n"
     ]
    },
    {
     "name": "stderr",
     "output_type": "stream",
     "text": [
      "Trainer will use only 1 of 4 GPUs because it is running inside an interactive / notebook environment. You may try to set `Trainer(devices=4)` but please note that multi-GPU inside interactive / notebook environments is considered experimental and unstable. Your mileage may vary.\n",
      "GPU available: True (cuda), used: True\n",
      "TPU available: False, using: 0 TPU cores\n",
      "HPU available: False, using: 0 HPUs\n",
      "LOCAL_RANK: 0 - CUDA_VISIBLE_DEVICES: [0,1,2,3]\n",
      "\n",
      "  | Name       | Type             | Params | Mode \n",
      "--------------------------------------------------------\n",
      "0 | model      | ResNet           | 4.6 M  | train\n",
      "1 | classifier | Linear           | 1.0 K  | train\n",
      "2 | loss       | CrossEntropyLoss | 0      | train\n",
      "--------------------------------------------------------\n",
      "4.6 M     Trainable params\n",
      "0         Non-trainable params\n",
      "4.6 M     Total params\n",
      "18.309    Total estimated model params size (MB)\n",
      "155       Modules in train mode\n",
      "0         Modules in eval mode\n"
     ]
    },
    {
     "name": "stdout",
     "output_type": "stream",
     "text": [
      "Epoch 0: 100%|██████████| 79/79 [01:53<00:00,  0.70it/s, v_num=2, train_loss=0.149, val_loss=0.115, accuracy=0.968]"
     ]
    },
    {
     "name": "stderr",
     "output_type": "stream",
     "text": [
      "`Trainer.fit` stopped: `max_epochs=1` reached.\n"
     ]
    },
    {
     "name": "stdout",
     "output_type": "stream",
     "text": [
      "Epoch 0: 100%|██████████| 79/79 [01:53<00:00,  0.70it/s, v_num=2, train_loss=0.149, val_loss=0.115, accuracy=0.968]\n"
     ]
    },
    {
     "name": "stderr",
     "output_type": "stream",
     "text": [
      "Trainer will use only 1 of 4 GPUs because it is running inside an interactive / notebook environment. You may try to set `Trainer(devices=4)` but please note that multi-GPU inside interactive / notebook environments is considered experimental and unstable. Your mileage may vary.\n",
      "GPU available: True (cuda), used: True\n",
      "TPU available: False, using: 0 TPU cores\n",
      "HPU available: False, using: 0 HPUs\n",
      "LOCAL_RANK: 0 - CUDA_VISIBLE_DEVICES: [0,1,2,3]\n",
      "\n",
      "  | Name       | Type             | Params | Mode \n",
      "--------------------------------------------------------\n",
      "0 | model      | ResNet           | 7.9 M  | train\n",
      "1 | classifier | Linear           | 1.0 K  | train\n",
      "2 | loss       | CrossEntropyLoss | 0      | train\n",
      "--------------------------------------------------------\n",
      "7.9 M     Trainable params\n",
      "0         Non-trainable params\n",
      "7.9 M     Total params\n",
      "31.497    Total estimated model params size (MB)\n",
      "155       Modules in train mode\n",
      "0         Modules in eval mode\n"
     ]
    },
    {
     "name": "stdout",
     "output_type": "stream",
     "text": [
      "Epoch 0: 100%|██████████| 79/79 [01:45<00:00,  0.75it/s, v_num=1, train_loss=0.132, val_loss=0.0999, accuracy=0.971]"
     ]
    },
    {
     "name": "stderr",
     "output_type": "stream",
     "text": [
      "`Trainer.fit` stopped: `max_epochs=1` reached.\n"
     ]
    },
    {
     "name": "stdout",
     "output_type": "stream",
     "text": [
      "Epoch 0: 100%|██████████| 79/79 [01:45<00:00,  0.75it/s, v_num=1, train_loss=0.132, val_loss=0.0999, accuracy=0.971]\n"
     ]
    },
    {
     "name": "stderr",
     "output_type": "stream",
     "text": [
      "Trainer will use only 1 of 4 GPUs because it is running inside an interactive / notebook environment. You may try to set `Trainer(devices=4)` but please note that multi-GPU inside interactive / notebook environments is considered experimental and unstable. Your mileage may vary.\n",
      "GPU available: True (cuda), used: True\n",
      "TPU available: False, using: 0 TPU cores\n",
      "HPU available: False, using: 0 HPUs\n",
      "LOCAL_RANK: 0 - CUDA_VISIBLE_DEVICES: [0,1,2,3]\n",
      "\n",
      "  | Name       | Type             | Params | Mode \n",
      "--------------------------------------------------------\n",
      "0 | model      | ResNet           | 10.1 M | train\n",
      "1 | classifier | Linear           | 1.0 K  | train\n",
      "2 | loss       | CrossEntropyLoss | 0      | train\n",
      "--------------------------------------------------------\n",
      "10.1 M    Trainable params\n",
      "0         Non-trainable params\n",
      "10.1 M    Total params\n",
      "40.291    Total estimated model params size (MB)\n",
      "155       Modules in train mode\n",
      "0         Modules in eval mode\n"
     ]
    },
    {
     "name": "stdout",
     "output_type": "stream",
     "text": [
      "Epoch 0: 100%|██████████| 79/79 [01:30<00:00,  0.87it/s, v_num=1, train_loss=0.0661, val_loss=0.0979, accuracy=0.971]"
     ]
    },
    {
     "name": "stderr",
     "output_type": "stream",
     "text": [
      "`Trainer.fit` stopped: `max_epochs=1` reached.\n"
     ]
    },
    {
     "name": "stdout",
     "output_type": "stream",
     "text": [
      "Epoch 0: 100%|██████████| 79/79 [01:30<00:00,  0.87it/s, v_num=1, train_loss=0.0661, val_loss=0.0979, accuracy=0.971]\n"
     ]
    }
   ],
   "source": [
    "import time\n",
    "from pytorch_lightning.loggers import CSVLogger\n",
    "\n",
    "\n",
    "\n",
    "p_list = [0.01, 0.03, 0.05, 0.1, 0.2, 0.4, 0.7, 0.9]\n",
    "cp_models = []\n",
    "times = []\n",
    "logs = []\n",
    "n_params = []\n",
    "for p in p_list:\n",
    "    cats_vs_dogs_pretrained = CatsVSDogsResnet(cp=True, ratio=p)\n",
    "    logger = CSVLogger(\"logs/\", name=f\"model_p_{p}\")\n",
    "    start = time.time()\n",
    "    trainer = pl.Trainer(accelerator=\"auto\", max_epochs=1, logger=logger)\n",
    "    trainer.fit(cats_vs_dogs_pretrained, train_dataloader, val_dataloader)\n",
    "    end = time.time()\n",
    "    times.append(end-start)\n",
    "    logs.append(trainer.logged_metrics)\n",
    "    cp_models.append(deepcopy(cats_vs_dogs_pretrained))\n",
    "    n_params.append(get_parameter_count(cats_vs_dogs_pretrained))\n",
    "    "
   ]
  },
  {
   "cell_type": "code",
   "execution_count": 9,
   "id": "0edf08d2-9151-4884-b20f-23de7af17bbe",
   "metadata": {},
   "outputs": [],
   "source": [
    "acc_list = list(map(lambda x: float(x['accuracy']), logs))"
   ]
  },
  {
   "cell_type": "code",
   "execution_count": 10,
   "id": "a5e59051-ed65-404f-9a82-9dbde32132c3",
   "metadata": {},
   "outputs": [
    {
     "data": {
      "text/plain": [
       "[<matplotlib.lines.Line2D at 0x7f62dc0130d0>]"
      ]
     },
     "execution_count": 10,
     "metadata": {},
     "output_type": "execute_result"
    },
    {
     "data": {
      "image/png": "[encoded data removed]",
      "text/plain": [
       "<Figure size 640x480 with 1 Axes>"
      ]
     },
     "metadata": {},
     "output_type": "display_data"
    }
   ],
   "source": [
    "import matplotlib.pyplot as plt\n",
    "\n",
    "plt.plot(n_params, acc_list, 'k-', linestyle = \":\", lw=1)\n",
    "plt.plot(n_params, acc_list, 'b+', c='g')"
   ]
  },
  {
   "cell_type": "code",
   "execution_count": 11,
   "id": "7bab5aba-2245-437b-8b2e-5ae16912f9ac",
   "metadata": {},
   "outputs": [],
   "source": [
    "model_temp = deepcopy(model)\n",
    "layer_params = []\n",
    "for name_1, layer_1 in model_temp.named_children():\n",
    "    if isinstance(layer_1, nn.Conv2d):\n",
    "        layer_params.append(get_parameter_count(layer_1))\n",
    "        \n",
    "    if isinstance(layer_1, nn.Sequential):\n",
    "        \n",
    "        for name_2, layer_2 in layer_1.named_children():\n",
    "            \n",
    "            for name_3, layer_3 in layer_2.named_children():\n",
    "                if isinstance(layer_3, nn.Conv2d):\n",
    "                    layer_params.append(get_parameter_count(layer_3))"
   ]
  },
  {
   "cell_type": "code",
   "execution_count": 12,
   "id": "1af0256e-1b32-4e66-9cb6-74773e145a60",
   "metadata": {},
   "outputs": [],
   "source": [
    "def get_cp_model_small(ratio=1):\n",
    "    ratio_list = [0.9] * 9 + [ratio] * 8\n",
    "    t = 0\n",
    "    cp_model = deepcopy(model)\n",
    "    for name_1, layer_1 in cp_model.named_children():\n",
    "        if isinstance(layer_1, nn.Conv2d):\n",
    "            setattr(cp_model, name_1, CPConv2d(layer_1, int(max_rank(layer_1) * ratio_list[t])))\n",
    "            t += 1\n",
    "            \n",
    "        if isinstance(layer_1, nn.Sequential):\n",
    "            atr_1 = getattr(cp_model, name_1)\n",
    "            \n",
    "            for name_2, layer_2 in layer_1.named_children():\n",
    "                atr_2 = atr_1[int(name_2)]\n",
    "                \n",
    "                for name_3, layer_3 in layer_2.named_children():\n",
    "                    if isinstance(layer_3, nn.Conv2d):\n",
    "                        setattr(atr_2, name_3, CPConv2d(layer_3, int(max_rank(layer_3) * ratio_list[t])))\n",
    "                        t += 1\n",
    "                            \n",
    "                atr_1[int(name_2)] = atr_2\n",
    "            setattr(cp_model, name_1, atr_1)\n",
    "    return cp_model\n",
    "    \n",
    "class CatsVSDogsResnetSmall(pl.LightningModule):\n",
    "    def __init__(self, cp: bool = False, ratio = 1) -> None:\n",
    "        super().__init__()\n",
    "        self.cp = cp\n",
    "\n",
    "        if cp:\n",
    "            self.model = get_cp_model_small(ratio)\n",
    "        else:\n",
    "            self.model = resnet18(pretrained=True)\n",
    "            \n",
    "        self.model.fc = nn.Identity()\n",
    "        self.classifier = nn.Linear(512, 2)\n",
    "        self.optimizer = torch.optim.Adam(self.classifier.parameters())\n",
    "\n",
    "        self.loss = nn.CrossEntropyLoss()\n",
    "\n",
    "    def forward(self, x) -> torch.Tensor:\n",
    "        with torch.no_grad():\n",
    "            features = self.model(x)\n",
    "        preds = self.classifier(features)\n",
    "        return preds\n",
    "\n",
    "    def configure_optimizers(self):\n",
    "        return self.optimizer\n",
    "\n",
    "    def training_step(self, train_batch, batch_idx) -> torch.Tensor:\n",
    "        images, target = train_batch\n",
    "        preds = self.forward(images)\n",
    "        loss = self.loss(preds, target)\n",
    "        self.log(\"train_loss\", loss, prog_bar=True)\n",
    "        return loss\n",
    "\n",
    "    def validation_step(self, val_batch, batch_idx) -> None:\n",
    "        images, target = val_batch\n",
    "        preds = self.forward(images)\n",
    "        loss = self.loss(preds, target)\n",
    "        acc = accuracy(torch.argmax(preds, dim=-1).long(), target.long(), task = 'binary')\n",
    "        self.log(\"val_loss\", loss, prog_bar=True)\n",
    "        self.log(\"accuracy\", acc, prog_bar=True)"
   ]
  },
  {
   "cell_type": "code",
   "execution_count": 13,
   "id": "8a155fb0-5409-438b-b549-cb32d7b5c827",
   "metadata": {},
   "outputs": [
    {
     "name": "stderr",
     "output_type": "stream",
     "text": [
      "Trainer will use only 1 of 4 GPUs because it is running inside an interactive / notebook environment. You may try to set `Trainer(devices=4)` but please note that multi-GPU inside interactive / notebook environments is considered experimental and unstable. Your mileage may vary.\n",
      "GPU available: True (cuda), used: True\n",
      "TPU available: False, using: 0 TPU cores\n",
      "HPU available: False, using: 0 HPUs\n",
      "LOCAL_RANK: 0 - CUDA_VISIBLE_DEVICES: [0,1,2,3]\n",
      "\n",
      "  | Name       | Type             | Params | Mode \n",
      "--------------------------------------------------------\n",
      "0 | model      | ResNet           | 884 K  | train\n",
      "1 | classifier | Linear           | 1.0 K  | train\n",
      "2 | loss       | CrossEntropyLoss | 0      | train\n",
      "--------------------------------------------------------\n",
      "885 K     Trainable params\n",
      "0         Non-trainable params\n",
      "885 K     Total params\n",
      "3.544     Total estimated model params size (MB)\n",
      "155       Modules in train mode\n",
      "0         Modules in eval mode\n"
     ]
    },
    {
     "name": "stdout",
     "output_type": "stream",
     "text": [
      "Epoch 0: 100%|██████████| 79/79 [01:30<00:00,  0.87it/s, v_num=1, train_loss=0.650, val_loss=0.656, accuracy=0.623]"
     ]
    },
    {
     "name": "stderr",
     "output_type": "stream",
     "text": [
      "`Trainer.fit` stopped: `max_epochs=1` reached.\n"
     ]
    },
    {
     "name": "stdout",
     "output_type": "stream",
     "text": [
      "Epoch 0: 100%|██████████| 79/79 [01:30<00:00,  0.87it/s, v_num=1, train_loss=0.650, val_loss=0.656, accuracy=0.623]\n"
     ]
    },
    {
     "name": "stderr",
     "output_type": "stream",
     "text": [
      "Trainer will use only 1 of 4 GPUs because it is running inside an interactive / notebook environment. You may try to set `Trainer(devices=4)` but please note that multi-GPU inside interactive / notebook environments is considered experimental and unstable. Your mileage may vary.\n",
      "GPU available: True (cuda), used: True\n",
      "TPU available: False, using: 0 TPU cores\n",
      "HPU available: False, using: 0 HPUs\n",
      "LOCAL_RANK: 0 - CUDA_VISIBLE_DEVICES: [0,1,2,3]\n",
      "\n",
      "  | Name       | Type             | Params | Mode \n",
      "--------------------------------------------------------\n",
      "0 | model      | ResNet           | 1.1 M  | train\n",
      "1 | classifier | Linear           | 1.0 K  | train\n",
      "2 | loss       | CrossEntropyLoss | 0      | train\n",
      "--------------------------------------------------------\n",
      "1.1 M     Trainable params\n",
      "0         Non-trainable params\n",
      "1.1 M     Total params\n",
      "4.372     Total estimated model params size (MB)\n",
      "155       Modules in train mode\n",
      "0         Modules in eval mode\n"
     ]
    },
    {
     "name": "stdout",
     "output_type": "stream",
     "text": [
      "Epoch 0: 100%|██████████| 79/79 [01:37<00:00,  0.81it/s, v_num=1, train_loss=0.477, val_loss=0.517, accuracy=0.746]"
     ]
    },
    {
     "name": "stderr",
     "output_type": "stream",
     "text": [
      "`Trainer.fit` stopped: `max_epochs=1` reached.\n"
     ]
    },
    {
     "name": "stdout",
     "output_type": "stream",
     "text": [
      "Epoch 0: 100%|██████████| 79/79 [01:37<00:00,  0.81it/s, v_num=1, train_loss=0.477, val_loss=0.517, accuracy=0.746]\n"
     ]
    },
    {
     "name": "stderr",
     "output_type": "stream",
     "text": [
      "Trainer will use only 1 of 4 GPUs because it is running inside an interactive / notebook environment. You may try to set `Trainer(devices=4)` but please note that multi-GPU inside interactive / notebook environments is considered experimental and unstable. Your mileage may vary.\n",
      "GPU available: True (cuda), used: True\n",
      "TPU available: False, using: 0 TPU cores\n",
      "HPU available: False, using: 0 HPUs\n",
      "LOCAL_RANK: 0 - CUDA_VISIBLE_DEVICES: [0,1,2,3]\n",
      "\n",
      "  | Name       | Type             | Params | Mode \n",
      "--------------------------------------------------------\n",
      "0 | model      | ResNet           | 1.3 M  | train\n",
      "1 | classifier | Linear           | 1.0 K  | train\n",
      "2 | loss       | CrossEntropyLoss | 0      | train\n",
      "--------------------------------------------------------\n",
      "1.3 M     Trainable params\n",
      "0         Non-trainable params\n",
      "1.3 M     Total params\n",
      "5.196     Total estimated model params size (MB)\n",
      "155       Modules in train mode\n",
      "0         Modules in eval mode\n"
     ]
    },
    {
     "name": "stdout",
     "output_type": "stream",
     "text": [
      "Epoch 0: 100%|██████████| 79/79 [01:37<00:00,  0.81it/s, v_num=1, train_loss=0.254, val_loss=0.339, accuracy=0.849]"
     ]
    },
    {
     "name": "stderr",
     "output_type": "stream",
     "text": [
      "`Trainer.fit` stopped: `max_epochs=1` reached.\n"
     ]
    },
    {
     "name": "stdout",
     "output_type": "stream",
     "text": [
      "Epoch 0: 100%|██████████| 79/79 [01:37<00:00,  0.81it/s, v_num=1, train_loss=0.254, val_loss=0.339, accuracy=0.849]\n"
     ]
    },
    {
     "name": "stderr",
     "output_type": "stream",
     "text": [
      "Trainer will use only 1 of 4 GPUs because it is running inside an interactive / notebook environment. You may try to set `Trainer(devices=4)` but please note that multi-GPU inside interactive / notebook environments is considered experimental and unstable. Your mileage may vary.\n",
      "GPU available: True (cuda), used: True\n",
      "TPU available: False, using: 0 TPU cores\n",
      "HPU available: False, using: 0 HPUs\n",
      "LOCAL_RANK: 0 - CUDA_VISIBLE_DEVICES: [0,1,2,3]\n",
      "\n",
      "  | Name       | Type             | Params | Mode \n",
      "--------------------------------------------------------\n",
      "0 | model      | ResNet           | 1.8 M  | train\n",
      "1 | classifier | Linear           | 1.0 K  | train\n",
      "2 | loss       | CrossEntropyLoss | 0      | train\n",
      "--------------------------------------------------------\n",
      "1.8 M     Trainable params\n",
      "0         Non-trainable params\n",
      "1.8 M     Total params\n",
      "7.267     Total estimated model params size (MB)\n",
      "155       Modules in train mode\n",
      "0         Modules in eval mode\n"
     ]
    },
    {
     "name": "stdout",
     "output_type": "stream",
     "text": [
      "Epoch 0: 100%|██████████| 79/79 [01:30<00:00,  0.87it/s, v_num=1, train_loss=0.120, val_loss=0.179, accuracy=0.933]"
     ]
    },
    {
     "name": "stderr",
     "output_type": "stream",
     "text": [
      "`Trainer.fit` stopped: `max_epochs=1` reached.\n"
     ]
    },
    {
     "name": "stdout",
     "output_type": "stream",
     "text": [
      "Epoch 0: 100%|██████████| 79/79 [01:30<00:00,  0.87it/s, v_num=1, train_loss=0.120, val_loss=0.179, accuracy=0.933]\n"
     ]
    },
    {
     "name": "stderr",
     "output_type": "stream",
     "text": [
      "Trainer will use only 1 of 4 GPUs because it is running inside an interactive / notebook environment. You may try to set `Trainer(devices=4)` but please note that multi-GPU inside interactive / notebook environments is considered experimental and unstable. Your mileage may vary.\n",
      "GPU available: True (cuda), used: True\n",
      "TPU available: False, using: 0 TPU cores\n",
      "HPU available: False, using: 0 HPUs\n",
      "LOCAL_RANK: 0 - CUDA_VISIBLE_DEVICES: [0,1,2,3]\n",
      "\n",
      "  | Name       | Type             | Params | Mode \n",
      "--------------------------------------------------------\n",
      "0 | model      | ResNet           | 2.8 M  | train\n",
      "1 | classifier | Linear           | 1.0 K  | train\n",
      "2 | loss       | CrossEntropyLoss | 0      | train\n",
      "--------------------------------------------------------\n",
      "2.8 M     Trainable params\n",
      "0         Non-trainable params\n",
      "2.8 M     Total params\n",
      "11.395    Total estimated model params size (MB)\n",
      "155       Modules in train mode\n",
      "0         Modules in eval mode\n"
     ]
    },
    {
     "name": "stdout",
     "output_type": "stream",
     "text": [
      "Epoch 0: 100%|██████████| 79/79 [01:34<00:00,  0.84it/s, v_num=1, train_loss=0.252, val_loss=0.153, accuracy=0.956]"
     ]
    },
    {
     "name": "stderr",
     "output_type": "stream",
     "text": [
      "`Trainer.fit` stopped: `max_epochs=1` reached.\n"
     ]
    },
    {
     "name": "stdout",
     "output_type": "stream",
     "text": [
      "Epoch 0: 100%|██████████| 79/79 [01:34<00:00,  0.83it/s, v_num=1, train_loss=0.252, val_loss=0.153, accuracy=0.956]\n"
     ]
    },
    {
     "name": "stderr",
     "output_type": "stream",
     "text": [
      "Trainer will use only 1 of 4 GPUs because it is running inside an interactive / notebook environment. You may try to set `Trainer(devices=4)` but please note that multi-GPU inside interactive / notebook environments is considered experimental and unstable. Your mileage may vary.\n",
      "GPU available: True (cuda), used: True\n",
      "TPU available: False, using: 0 TPU cores\n",
      "HPU available: False, using: 0 HPUs\n",
      "LOCAL_RANK: 0 - CUDA_VISIBLE_DEVICES: [0,1,2,3]\n",
      "\n",
      "  | Name       | Type             | Params | Mode \n",
      "--------------------------------------------------------\n",
      "0 | model      | ResNet           | 4.9 M  | train\n",
      "1 | classifier | Linear           | 1.0 K  | train\n",
      "2 | loss       | CrossEntropyLoss | 0      | train\n",
      "--------------------------------------------------------\n",
      "4.9 M     Trainable params\n",
      "0         Non-trainable params\n",
      "4.9 M     Total params\n",
      "19.653    Total estimated model params size (MB)\n",
      "155       Modules in train mode\n",
      "0         Modules in eval mode\n"
     ]
    },
    {
     "name": "stdout",
     "output_type": "stream",
     "text": [
      "Epoch 0: 100%|██████████| 79/79 [01:38<00:00,  0.80it/s, v_num=1, train_loss=0.106, val_loss=0.0957, accuracy=0.972]"
     ]
    },
    {
     "name": "stderr",
     "output_type": "stream",
     "text": [
      "`Trainer.fit` stopped: `max_epochs=1` reached.\n"
     ]
    },
    {
     "name": "stdout",
     "output_type": "stream",
     "text": [
      "Epoch 0: 100%|██████████| 79/79 [01:38<00:00,  0.80it/s, v_num=1, train_loss=0.106, val_loss=0.0957, accuracy=0.972]\n"
     ]
    },
    {
     "name": "stderr",
     "output_type": "stream",
     "text": [
      "Trainer will use only 1 of 4 GPUs because it is running inside an interactive / notebook environment. You may try to set `Trainer(devices=4)` but please note that multi-GPU inside interactive / notebook environments is considered experimental and unstable. Your mileage may vary.\n",
      "GPU available: True (cuda), used: True\n",
      "TPU available: False, using: 0 TPU cores\n",
      "HPU available: False, using: 0 HPUs\n",
      "LOCAL_RANK: 0 - CUDA_VISIBLE_DEVICES: [0,1,2,3]\n",
      "\n",
      "  | Name       | Type             | Params | Mode \n",
      "--------------------------------------------------------\n",
      "0 | model      | ResNet           | 8.0 M  | train\n",
      "1 | classifier | Linear           | 1.0 K  | train\n",
      "2 | loss       | CrossEntropyLoss | 0      | train\n",
      "--------------------------------------------------------\n",
      "8.0 M     Trainable params\n",
      "0         Non-trainable params\n",
      "8.0 M     Total params\n",
      "32.033    Total estimated model params size (MB)\n",
      "155       Modules in train mode\n",
      "0         Modules in eval mode\n"
     ]
    },
    {
     "name": "stdout",
     "output_type": "stream",
     "text": [
      "Epoch 0: 100%|██████████| 79/79 [01:34<00:00,  0.83it/s, v_num=1, train_loss=0.0444, val_loss=0.0867, accuracy=0.972]"
     ]
    },
    {
     "name": "stderr",
     "output_type": "stream",
     "text": [
      "`Trainer.fit` stopped: `max_epochs=1` reached.\n"
     ]
    },
    {
     "name": "stdout",
     "output_type": "stream",
     "text": [
      "Epoch 0: 100%|██████████| 79/79 [01:34<00:00,  0.83it/s, v_num=1, train_loss=0.0444, val_loss=0.0867, accuracy=0.972]\n"
     ]
    }
   ],
   "source": [
    "p_list = [0.01, 0.03, 0.05, 0.1, 0.2, 0.4, 0.7]\n",
    "times_new = []\n",
    "logs_new = []\n",
    "n_params_new = []\n",
    "for p in p_list:\n",
    "    cats_vs_dogs_pretrained = CatsVSDogsResnetSmall(cp=True, ratio=p)\n",
    "    start = time.time()\n",
    "    trainer = pl.Trainer(accelerator=\"auto\", max_epochs=1, logger=logger)\n",
    "    trainer.fit(cats_vs_dogs_pretrained, train_dataloader, val_dataloader)\n",
    "    end = time.time()\n",
    "    times_new.append(end-start)\n",
    "    logs_new.append(trainer.logged_metrics)\n",
    "    n_params_new.append(get_parameter_count(cats_vs_dogs_pretrained))"
   ]
  },
  {
   "cell_type": "code",
   "execution_count": 14,
   "id": "1969b279-98cf-478d-b7a1-c5a182bde3c7",
   "metadata": {},
   "outputs": [],
   "source": [
    "new_acc_list = list(map(lambda x: float(x['accuracy']), logs_new))"
   ]
  },
  {
   "cell_type": "code",
   "execution_count": 15,
   "id": "bbcc1fda-24bf-48dc-8693-416b09002285",
   "metadata": {},
   "outputs": [
    {
     "name": "stderr",
     "output_type": "stream",
     "text": [
      "Trainer will use only 1 of 4 GPUs because it is running inside an interactive / notebook environment. You may try to set `Trainer(devices=4)` but please note that multi-GPU inside interactive / notebook environments is considered experimental and unstable. Your mileage may vary.\n",
      "GPU available: True (cuda), used: True\n",
      "TPU available: False, using: 0 TPU cores\n",
      "HPU available: False, using: 0 HPUs\n",
      "LOCAL_RANK: 0 - CUDA_VISIBLE_DEVICES: [0,1,2,3]\n",
      "\n",
      "  | Name       | Type             | Params | Mode \n",
      "--------------------------------------------------------\n",
      "0 | model      | ResNet           | 11.2 M | train\n",
      "1 | classifier | Linear           | 1.0 K  | train\n",
      "2 | loss       | CrossEntropyLoss | 0      | train\n",
      "--------------------------------------------------------\n",
      "11.2 M    Trainable params\n",
      "0         Non-trainable params\n",
      "11.2 M    Total params\n",
      "44.710    Total estimated model params size (MB)\n",
      "70        Modules in train mode\n",
      "0         Modules in eval mode\n"
     ]
    },
    {
     "name": "stdout",
     "output_type": "stream",
     "text": [
      "Epoch 0: 100%|██████████| 79/79 [01:17<00:00,  1.02it/s, v_num=1, train_loss=0.171, val_loss=0.0895, accuracy=0.973]"
     ]
    },
    {
     "name": "stderr",
     "output_type": "stream",
     "text": [
      "`Trainer.fit` stopped: `max_epochs=1` reached.\n"
     ]
    },
    {
     "name": "stdout",
     "output_type": "stream",
     "text": [
      "Epoch 0: 100%|██████████| 79/79 [01:17<00:00,  1.01it/s, v_num=1, train_loss=0.171, val_loss=0.0895, accuracy=0.973]\n"
     ]
    }
   ],
   "source": [
    "cats_vs_dogs_pretrained = CatsVSDogsResnetSmall(cp=False)\n",
    "start = time.time()\n",
    "trainer = pl.Trainer(accelerator=\"auto\", max_epochs=1, logger=logger)\n",
    "trainer.fit(cats_vs_dogs_pretrained, train_dataloader, val_dataloader)\n",
    "end = time.time()\n",
    "times.append(end-start)\n",
    "logs.append(trainer.logged_metrics)\n",
    "acc_list.append(float(logs[-1]['accuracy']))\n",
    "n_params.append(get_parameter_count(cats_vs_dogs_pretrained))"
   ]
  },
  {
   "cell_type": "code",
   "execution_count": 16,
   "id": "c0fbd6de-0ae9-49e0-8bcf-33593535824a",
   "metadata": {},
   "outputs": [],
   "source": [
    "n_params = list(map(lambda x: round(x/1e6, 2), n_params))\n",
    "n_params_new = list(map(lambda x: round(x/1e6, 2), n_params_new))"
   ]
  },
  {
   "cell_type": "code",
   "execution_count": 17,
   "id": "b9d8137c-991e-4d58-8b19-f3c0a6e2d762",
   "metadata": {},
   "outputs": [
    {
     "data": {
      "image/png": "[encoded data removed]",
      "text/plain": [
       "<Figure size 640x480 with 1 Axes>"
      ]
     },
     "metadata": {},
     "output_type": "display_data"
    }
   ],
   "source": [
    "plt.plot(n_params, acc_list, 'k-', linestyle = \":\", lw=1)\n",
    "plt.plot(n_params, acc_list, 'b+', c='g')\n",
    "\n",
    "plt.grid()\n",
    "plt.xlabel('Num parameters (M)')\n",
    "plt.ylabel('Val accuracy')\n",
    "plt.title('Transfer learning with cp decomp')\n",
    "plt.savefig('def_approach.jpg', format='jpeg')"
   ]
  },
  {
   "cell_type": "code",
   "execution_count": 19,
   "id": "a2147b73-3630-46d5-ab52-4d05338450c8",
   "metadata": {},
   "outputs": [
    {
     "data": {
      "image/png": "[encoded data removed]",
      "text/plain": [
       "<Figure size 640x480 with 1 Axes>"
      ]
     },
     "metadata": {},
     "output_type": "display_data"
    }
   ],
   "source": [
    "import seaborn as sns\n",
    "sns.barplot(list(map(lambda x: round(x/1e6, 2), layer_params)))\n",
    "plt.xlabel('Layer number')\n",
    "plt.ylabel('Num parameters (M)')\n",
    "plt.title('Distribution num parameters')\n",
    "plt.savefig('distribution_num_def.jpg', format='jpeg')"
   ]
  },
  {
   "cell_type": "code",
   "execution_count": 20,
   "id": "0214bfdb-a14c-4578-b446-345bc673f1d0",
   "metadata": {},
   "outputs": [
    {
     "data": {
      "image/png": "[encoded data removed]",
      "text/plain": [
       "<Figure size 640x480 with 1 Axes>"
      ]
     },
     "metadata": {},
     "output_type": "display_data"
    }
   ],
   "source": [
    "plt.plot(n_params, acc_list, 'k-', linestyle = \":\", lw=1)\n",
    "plt.plot(n_params, acc_list, 'b+', c='g', label='old approach')\n",
    "\n",
    "plt.plot(n_params_new, new_acc_list, 'k-', linestyle = \":\", lw=1)\n",
    "plt.plot(n_params_new, new_acc_list, 'b+', c='r', label='new approach')\n",
    "\n",
    "plt.grid()\n",
    "plt.xlabel('Num parameters (M)')\n",
    "plt.ylabel('Val accuracy')\n",
    "plt.title('Transfer learning with cp decomp')\n",
    "plt.legend()\n",
    "plt.savefig('new_approach.jpg', format='jpeg')"
   ]
  },
  {
   "cell_type": "code",
   "execution_count": 21,
   "id": "4496aeb8-dc25-4aba-b023-168625135a06",
   "metadata": {},
   "outputs": [
    {
     "data": {
      "image/png": "[encoded data removed]",
      "text/plain": [
       "<Figure size 640x480 with 1 Axes>"
      ]
     },
     "metadata": {},
     "output_type": "display_data"
    }
   ],
   "source": [
    "plt.plot(n_params, times, 'k-', linestyle = \":\", lw=1) \n",
    "plt.plot(n_params, times, 'b+', c='g') \n",
    " \n",
    "plt.grid() \n",
    "plt.xlabel('Num parameters (M)') \n",
    "plt.ylabel('time (s)') \n",
    "plt.title('Transfer learning with cp decomp') \n",
    "plt.savefig('def_approach_time.jpg', format='jpeg')"
   ]
  },
  {
   "cell_type": "code",
   "execution_count": 22,
   "id": "47effe89",
   "metadata": {},
   "outputs": [
    {
     "data": {
      "image/png": "[encoded data removed]",
      "text/plain": [
       "<Figure size 640x480 with 1 Axes>"
      ]
     },
     "metadata": {},
     "output_type": "display_data"
    }
   ],
   "source": [
    "plt.plot(n_params, times, 'k-', linestyle = \":\", lw=1) \n",
    "plt.plot(n_params, times, 'b+', c='g', label='old approach') \n",
    " \n",
    "plt.plot(n_params_new, times_new, 'k-', linestyle = \":\", lw=1) \n",
    "plt.plot(n_params_new, times_new, 'b+', c='r', label='new approach') \n",
    " \n",
    "plt.grid() \n",
    "plt.xlabel('Num parameters (M)') \n",
    "plt.ylabel('time (s)') \n",
    "plt.title('Transfer learning with cp decomp') \n",
    "plt.legend() \n",
    "plt.savefig('new_approach_time.jpg', format='jpeg')\n"
   ]
  },
  {
   "cell_type": "code",
   "execution_count": null,
   "id": "0225ae82",
   "metadata": {},
   "outputs": [],
   "source": []
  }
 ],
 "metadata": {
  "kernelspec": {
   "display_name": "conv_cp",
   "language": "python",
   "name": "python3"
  },
  "language_info": {
   "codemirror_mode": {
    "name": "ipython",
    "version": 3
   },
   "file_extension": ".py",
   "mimetype": "text/x-python",
   "name": "python",
   "nbconvert_exporter": "python",
   "pygments_lexer": "ipython3",
   "version": "3.11.10"
  }
 },
 "nbformat": 4,
 "nbformat_minor": 5
}
